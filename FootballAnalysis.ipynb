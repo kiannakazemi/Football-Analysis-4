{
  "nbformat": 4,
  "nbformat_minor": 0,
  "metadata": {
    "colab": {
      "name": "Foglio5.ipynb",
      "provenance": [],
      "collapsed_sections": [],
      "authorship_tag": "ABX9TyOtPeWbJ+Mv9Pv2RpSuDMTF",
      "include_colab_link": true
    },
    "kernelspec": {
      "name": "python3",
      "display_name": "Python 3"
    },
    "language_info": {
      "name": "python"
    }
  },
  "cells": [
    {
      "cell_type": "markdown",
      "metadata": {
        "id": "view-in-github",
        "colab_type": "text"
      },
      "source": [
        "<a href=\"https://colab.research.google.com/github/kiannakazemi/Football-Analysis-4/blob/main/FootballAnalysis.ipynb\" target=\"_parent\"><img src=\"https://colab.research.google.com/assets/colab-badge.svg\" alt=\"Open In Colab\"/></a>"
      ]
    },
    {
      "cell_type": "markdown",
      "source": [
        "Import necessary libraries."
      ],
      "metadata": {
        "id": "ajMMCpi-cyMT"
      }
    },
    {
      "cell_type": "code",
      "source": [
        "from google.colab import files\n",
        "import io\n",
        "import pandas as pd\n",
        "import numpy as np\n",
        "import matplotlib.pyplot as plt"
      ],
      "metadata": {
        "id": "kg7zYqKJGufi"
      },
      "execution_count": null,
      "outputs": []
    },
    {
      "cell_type": "markdown",
      "source": [
        "Read csv file."
      ],
      "metadata": {
        "id": "ytGENlBvG1gA"
      }
    },
    {
      "cell_type": "code",
      "source": [
        "data = files.upload()\n",
        "df = pd.read_csv(io.StringIO(data['results.csv'].decode('utf-8')))"
      ],
      "metadata": {
        "colab": {
          "resources": {
            "http://localhost:8080/nbextensions/google.colab/files.js": {
              "data": "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",
              "ok": true,
              "headers": [
                [
                  "content-type",
                  "application/javascript"
                ]
              ],
              "status": 200,
              "status_text": ""
            }
          },
          "base_uri": "https://localhost:8080/",
          "height": 73
        },
        "id": "Egk6R5ThG1ro",
        "outputId": "b0186de9-dab8-4790-8582-39f083234dff"
      },
      "execution_count": null,
      "outputs": [
        {
          "output_type": "display_data",
          "data": {
            "text/html": [
              "\n",
              "     <input type=\"file\" id=\"files-f0824962-561f-4ef0-b7f3-8eb34d5334a1\" name=\"files[]\" multiple disabled\n",
              "        style=\"border:none\" />\n",
              "     <output id=\"result-f0824962-561f-4ef0-b7f3-8eb34d5334a1\">\n",
              "      Upload widget is only available when the cell has been executed in the\n",
              "      current browser session. Please rerun this cell to enable.\n",
              "      </output>\n",
              "      <script src=\"/nbextensions/google.colab/files.js\"></script> "
            ],
            "text/plain": [
              "<IPython.core.display.HTML object>"
            ]
          },
          "metadata": {}
        },
        {
          "output_type": "stream",
          "name": "stdout",
          "text": [
            "Saving results.csv to results.csv\n"
          ]
        }
      ]
    },
    {
      "cell_type": "markdown",
      "source": [
        "The goal_scored function calculates the total goals scored by the choosen team in FIFA World Cup, for example Poland scored 46 times.\n",
        "\n",
        "The goal_conceded function calculates the total goals conceded by the choosen team in FIFA World Cup, for example Poland conceded 45 times."
      ],
      "metadata": {
        "id": "Od4HOSSwGliT"
      }
    },
    {
      "cell_type": "code",
      "source": [
        "tournament = df[(df['tournament'] == \"FIFA World Cup\")]\n",
        "home = pd.unique(tournament['home_team'])\n",
        "away = pd.unique(tournament['away_team'])\n",
        "countries = pd.unique(np.concatenate((home,away)))\n",
        "\n",
        "def goal_scored(team):\n",
        "  homeTeam = tournament[tournament['home_team'] == team]\n",
        "  awayTeam = tournament[tournament['away_team'] == team]\n",
        "  homeGoal = homeTeam.home_score\n",
        "  awayGoal = awayTeam.away_score\n",
        "  scored = homeGoal.append(awayGoal)\n",
        "  goalScored = int(scored.sum())\n",
        "  return goalScored\n",
        " \n",
        "#goal_scored('Poland')\n",
        "\n",
        "def goal_conceded(team):\n",
        "  homeTeam = tournament[tournament['home_team'] == team]\n",
        "  awayTeam = tournament[tournament['away_team'] == team]\n",
        "  homeConceded = homeTeam.away_score\n",
        "  awayConceded = awayTeam.home_score\n",
        "  conceded = homeConceded.append(awayConceded)\n",
        "  goalConceded = int(conceded.sum())\n",
        "  return goalConceded\n",
        "\n",
        "#goal_conceded('Poland')"
      ],
      "metadata": {
        "id": "7S-5pVA9c8Ql"
      },
      "execution_count": null,
      "outputs": []
    },
    {
      "cell_type": "markdown",
      "source": [
        "The win function calculates the times the choosen team won in FIFA World Cup, for example Poland won 16 times.\n",
        "\n",
        "The lose function calculates the times the choosen team lost in FIFA World Cup, for example Poland lost 13 times."
      ],
      "metadata": {
        "id": "BVQX2VQ8jvrn"
      }
    },
    {
      "cell_type": "code",
      "source": [
        "def win(team):\n",
        "  new_team = tournament[(tournament['home_team'] == team) | (tournament['away_team'] == team)]\n",
        "  count = 0\n",
        "  for i, row in new_team.iterrows():\n",
        "    if row['home_team'] == team:\n",
        "      if row['home_score'] > row['away_score']:\n",
        "        count += 1\n",
        "    elif row['away_team'] == team:\n",
        "      if row['home_score'] < row['away_score']:\n",
        "        count += 1\n",
        "  return count\n",
        "\n",
        "#win('Poland')\n",
        "\n",
        "def lose(team):\n",
        "  new_team = tournament[(tournament['home_team'] == team) | (tournament['away_team'] == team)]\n",
        "  count = 0\n",
        "  for i, row in new_team.iterrows():\n",
        "    if row['home_team'] == team:\n",
        "      if row['home_score'] < row['away_score']:\n",
        "        count += 1\n",
        "    elif row['away_team'] == team:\n",
        "      if row['home_score'] > row['away_score']:\n",
        "        count += 1\n",
        "  return count\n",
        "\n",
        "#lose('Poland')"
      ],
      "metadata": {
        "id": "NneOLVZEjyaI"
      },
      "execution_count": null,
      "outputs": []
    },
    {
      "cell_type": "markdown",
      "source": [
        "I inserted the acquired data into a new dataframe to create a chart. \n",
        "\n",
        "For simplicity, I plotted the top 10 teams of the FIFA World Cup."
      ],
      "metadata": {
        "id": "jJqxi3PpwgQo"
      }
    },
    {
      "cell_type": "code",
      "source": [
        "new_df = pd.DataFrame(columns = ['Team','goal_scored','goal_conceded','win','lost'])\n",
        "for country in countries:\n",
        "  gs = goal_scored(country)\n",
        "  gc = goal_conceded(country)\n",
        "  w = win(country)\n",
        "  l = lose(country)\n",
        "  new_df = new_df.append({'Team': country, 'goal_scored': gs, 'goal_conceded':gc, 'win': w, 'lost': l}, ignore_index = True)\n",
        "\n",
        "top_teams = new_df.sort_values(by = ['goal_scored', 'goal_conceded'], ascending = False)\n",
        "top_fifty_teams = top_teams[:10]\n",
        "\n",
        "top_fifty_teams.plot(x = 'Team', y = ['goal_scored','goal_conceded','win','lost'], kind = \"bar\", figsize = (10, 7))\n",
        "plt.ylabel('Matches/Goals')\n",
        "\n",
        "plt.show()"
      ],
      "metadata": {
        "colab": {
          "base_uri": "https://localhost:8080/",
          "height": 494
        },
        "id": "a_XHWMhkwl4H",
        "outputId": "4245add3-7194-4b71-b8db-90cf85a86e5d"
      },
      "execution_count": null,
      "outputs": [
        {
          "output_type": "display_data",
          "data": {
            "image/png": "[encoded data removed]",
            "text/plain": [
              "<Figure size 720x504 with 1 Axes>"
            ]
          },
          "metadata": {
            "needs_background": "light"
          }
        }
      ]
    },
    {
      "cell_type": "markdown",
      "source": [
        "The frequency_matches function calculates the frequency of matches in different countries, for example the frequency of matches in Italy is 0.07666666666666666."
      ],
      "metadata": {
        "id": "uso0jNTYRRzK"
      }
    },
    {
      "cell_type": "code",
      "source": [
        "countries = pd.unique(tournament['country'])\n",
        "def frequency_matches(country):\n",
        "  new_df = tournament[(tournament['country'] == country)]\n",
        "  return len(new_df)/len(tournament)\n",
        "#frequency_matches('Italy')"
      ],
      "metadata": {
        "id": "qqCRIHMLRSKd"
      },
      "execution_count": null,
      "outputs": []
    },
    {
      "cell_type": "markdown",
      "source": [
        "The won_home_matches function calculates the games won at home by the choosen team in FIFA World Cup, for example Poland won 9 times. \n",
        "\n",
        "The lost_home_matches function calculates the games lost at home by the choosen team in FIFA World Cup, for example Poland lost 4 times. \n",
        "\n",
        "The won_away_matches function calculates the games won away from home by the choosen team in FIFA World Cup, for example Poland won 7 times. \n",
        "\n",
        "The lost_away_matches function calculates the games lost away from home by the choosen team in FIFA World Cup, for example Poland lost 9 times. "
      ],
      "metadata": {
        "id": "yN5DHVhDUP01"
      }
    },
    {
      "cell_type": "code",
      "source": [
        "def won_home_matches(team):\n",
        "  new_df = tournament[(tournament['home_team'] == team)]\n",
        "  count = 0\n",
        "  for i, row in new_df.iterrows():\n",
        "    if row['home_score'] > row['away_score']:\n",
        "      count +=1\n",
        "  return count\n",
        "\n",
        "#won_home_matches('Poland')\n",
        "\n",
        "def lost_home_matches(team):\n",
        "  new_df = tournament[(tournament['home_team'] == team)]\n",
        "  count = 0\n",
        "  for i, row in new_df.iterrows():\n",
        "    if row['home_score'] < row['away_score']:\n",
        "      count += 1\n",
        "  return count\n",
        "\n",
        "#lost_home_matches('Poland')\n",
        "\n",
        "def won_away_matches(team):\n",
        "  new_df = tournament[(tournament['away_team'] == team)]\n",
        "  count = 0\n",
        "  for i, row in new_df.iterrows():\n",
        "    if row['home_score'] < row['away_score']:\n",
        "      count +=1\n",
        "  return count\n",
        "\n",
        "#won_away_matches('Poland')\n",
        "\n",
        "def lost_away_matches(team):\n",
        "  new_df = tournament[(tournament['away_team'] == team)]\n",
        "  count = 0\n",
        "  for i, row in new_df.iterrows():\n",
        "    if row['home_score'] > row['away_score']:\n",
        "      count += 1\n",
        "  return count\n",
        "\n",
        "#lost_away_matches('Poland')"
      ],
      "metadata": {
        "id": "IkdQbHiDUP_s"
      },
      "execution_count": null,
      "outputs": []
    },
    {
      "cell_type": "markdown",
      "source": [
        "I inserted the acquired data into a new dataframe to create a chart. \n",
        "\n",
        "For simplicity, I plotted the first 10 teams of the FIFA World Cup."
      ],
      "metadata": {
        "id": "hFzDjZnW-OWd"
      }
    },
    {
      "cell_type": "code",
      "source": [
        "df_new = pd.DataFrame(columns = ['Team','won_home_matches','lost_home_matches','won_away_matches','lost_away_matches'])\n",
        "for country in countries:\n",
        "  whm = won_home_matches(country)\n",
        "  lhm = lost_home_matches(country)\n",
        "  wam = won_away_matches(country)\n",
        "  lam = lost_away_matches(country)\n",
        "  df_new = df_new.append({'Team': country, 'won_home_matches': whm, 'lost_home_matches':lhm, 'won_away_matches': wam, 'lost_away_matches': lam}, ignore_index = True)\n",
        "\n",
        "df2 = df_new[:10] \n",
        "df2.plot(x='Team', width=0.6, y=['won_home_matches', 'lost_home_matches','won_away_matches','lost_away_matches'], kind=\"bar\",figsize = (10, 7))\n",
        "plt.ylabel('Win/lose')\n",
        "plt.show()"
      ],
      "metadata": {
        "colab": {
          "base_uri": "https://localhost:8080/",
          "height": 491
        },
        "id": "RdXBT4IC-YCc",
        "outputId": "8d061fea-7c93-480d-d121-6e3d91c3125b"
      },
      "execution_count": null,
      "outputs": [
        {
          "output_type": "display_data",
          "data": {
            "image/png": "[encoded data removed]",
            "text/plain": [
              "<Figure size 720x504 with 1 Axes>"
            ]
          },
          "metadata": {
            "needs_background": "light"
          }
        }
      ]
    },
    {
      "cell_type": "markdown",
      "source": [
        "In the following chart we can see the percentage of goals scored and goals conceded by Iran."
      ],
      "metadata": {
        "id": "zyjx0GScCDvT"
      }
    },
    {
      "cell_type": "code",
      "source": [
        "iran = {\"goal_scored\": goal_scored('Iran'), \"goal_conceded\": goal_conceded('Iran')}\n",
        "fig1, ax1 = plt.subplots()\n",
        "ax1.pie(iran.values(), labels = iran.keys(), autopct = '%1.1f%%', colors = (\"Yellow\",\"Blue\"), startangle = 90)\n",
        "ax1.axis('equal')\n",
        "plt.show()"
      ],
      "metadata": {
        "colab": {
          "base_uri": "https://localhost:8080/",
          "height": 248
        },
        "id": "pPKDBjM_CQfT",
        "outputId": "b31f1704-a9da-4c64-f574-6803e3c8e1a1"
      },
      "execution_count": null,
      "outputs": [
        {
          "output_type": "display_data",
          "data": {
            "image/png": "[encoded data removed]",
            "text/plain": [
              "<Figure size 432x288 with 1 Axes>"
            ]
          },
          "metadata": {}
        }
      ]
    }
  ]
}